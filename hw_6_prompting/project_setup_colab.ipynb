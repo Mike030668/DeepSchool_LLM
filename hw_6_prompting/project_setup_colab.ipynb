
{
  "cells": [
    {
      "cell_type": "markdown",
      "metadata": {},
      "source": [
        "# Project Setup in Google Colab\n",
        "This notebook helps to set up the environment for the project based on the provided requirements."
      ]
    },
    {
      "cell_type": "code",
      "execution_count": 1,
      "metadata": {},
      "outputs": [],
      "source": [
        "!pip install pandas~=2.2.2\n",
        "!pip install pyyaml~=6.0.1\n",
        "!pip install openai~=1.30.1\n",
        "!pip install fastapi~=0.110.0\n",
        "!pip install python-dotenv~=1.0.0\n",
        "!pip install langchain~=0.2.14\n",
        "!pip install faiss-cpu~=1.8.0\n",
        "!pip install html2text~=2020.1.16\n",
        "!pip install uvicorn~=0.29\n",
        "!pip install tensorflow~=2.16\n",
        "!pip install tensorflow-text~=2.16\n",
        "!pip install tensorflow-hub~=0.16.1\n",
        "!pip install pydantic~=2.5.2\n",
        "!pip install requests~=2.31.0\n",
        "!pip install langchain_community~=0.2.12"
      ]
    },
    {
      "cell_type": "markdown",
      "metadata": {},
      "source": [
        "Once the environment is set up, you can proceed with the project files and logic implementation."
      ]
    }
  ],
  "metadata": {
    "kernelspec": {
      "display_name": "Python 3",
      "language": "python",
      "name": "python3"
    },
    "language_info": {
      "name": "python",
      "version": "3.8.10"
    }
  },
  "nbformat": 4,
  "nbformat_minor": 4
}
